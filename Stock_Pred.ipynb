{
  "nbformat": 4,
  "nbformat_minor": 0,
  "metadata": {
    "kernelspec": {
      "display_name": "Python 3",
      "language": "python",
      "name": "python3"
    },
    "language_info": {
      "codemirror_mode": {
        "name": "ipython",
        "version": 3
      },
      "file_extension": ".py",
      "mimetype": "text/x-python",
      "name": "python",
      "nbconvert_exporter": "python",
      "pygments_lexer": "ipython3",
      "version": "3.5.4"
    },
    "colab": {
      "name": "Stock_Pred.ipynb",
      "version": "0.3.2",
      "provenance": [],
      "include_colab_link": true
    }
  },
  "cells": [
    {
      "cell_type": "markdown",
      "metadata": {
        "id": "view-in-github",
        "colab_type": "text"
      },
      "source": [
        "<a href=\"https://colab.research.google.com/github/Khaleec/Deep_Learning/blob/master/Stock_Pred.ipynb\" target=\"_parent\"><img src=\"https://colab.research.google.com/assets/colab-badge.svg\" alt=\"Open In Colab\"/></a>"
      ]
    },
    {
      "cell_type": "code",
      "metadata": {
        "id": "NDEScqErScsa",
        "colab_type": "code",
        "colab": {
          "base_uri": "https://localhost:8080/",
          "height": 34
        },
        "outputId": "6ce9280d-5eb3-42ca-f600-ab8054fc6373"
      },
      "source": [
        "import pandas as pd\n",
        "import numpy as np\n",
        "#import tensorflow as tf\n",
        "\n",
        "from keras.models import Sequential\n",
        "from keras.layers import Dense, Dropout, Flatten\n",
        "from keras.layers import LSTM\n",
        "import keras\n",
        "from keras import optimizers\n",
        "\n",
        "from sklearn.preprocessing import MinMaxScaler\n",
        "from sklearn.model_selection import train_test_split\n",
        "from sklearn.metrics import accuracy_score, mean_squared_error\n",
        "\n",
        "BATCH_SIZE = 20\n",
        "TIME_STEPS = 60"
      ],
      "execution_count": 1,
      "outputs": [
        {
          "output_type": "stream",
          "text": [
            "Using TensorFlow backend.\n"
          ],
          "name": "stderr"
        }
      ]
    },
    {
      "cell_type": "code",
      "metadata": {
        "id": "pgnuLs-LScse",
        "colab_type": "code",
        "colab": {}
      },
      "source": [
        "df = pd.read_csv('sp500.csv')"
      ],
      "execution_count": 0,
      "outputs": []
    },
    {
      "cell_type": "code",
      "metadata": {
        "id": "RSpKRkXgScsg",
        "colab_type": "code",
        "colab": {},
        "outputId": "918841cf-39ef-4d98-b56a-2dfb74bd203d"
      },
      "source": [
        "df.head()"
      ],
      "execution_count": 0,
      "outputs": [
        {
          "output_type": "execute_result",
          "data": {
            "text/html": [
              "<div>\n",
              "<style scoped>\n",
              "    .dataframe tbody tr th:only-of-type {\n",
              "        vertical-align: middle;\n",
              "    }\n",
              "\n",
              "    .dataframe tbody tr th {\n",
              "        vertical-align: top;\n",
              "    }\n",
              "\n",
              "    .dataframe thead th {\n",
              "        text-align: right;\n",
              "    }\n",
              "</style>\n",
              "<table border=\"1\" class=\"dataframe\">\n",
              "  <thead>\n",
              "    <tr style=\"text-align: right;\">\n",
              "      <th></th>\n",
              "      <th>Date</th>\n",
              "      <th>Open</th>\n",
              "      <th>High</th>\n",
              "      <th>Low</th>\n",
              "      <th>Close</th>\n",
              "      <th>Adj Close</th>\n",
              "      <th>Volume</th>\n",
              "    </tr>\n",
              "  </thead>\n",
              "  <tbody>\n",
              "    <tr>\n",
              "      <th>0</th>\n",
              "      <td>1950-01-03</td>\n",
              "      <td>16.66</td>\n",
              "      <td>16.66</td>\n",
              "      <td>16.66</td>\n",
              "      <td>16.66</td>\n",
              "      <td>16.66</td>\n",
              "      <td>1260000</td>\n",
              "    </tr>\n",
              "    <tr>\n",
              "      <th>1</th>\n",
              "      <td>1950-01-04</td>\n",
              "      <td>16.85</td>\n",
              "      <td>16.85</td>\n",
              "      <td>16.85</td>\n",
              "      <td>16.85</td>\n",
              "      <td>16.85</td>\n",
              "      <td>1890000</td>\n",
              "    </tr>\n",
              "    <tr>\n",
              "      <th>2</th>\n",
              "      <td>1950-01-05</td>\n",
              "      <td>16.93</td>\n",
              "      <td>16.93</td>\n",
              "      <td>16.93</td>\n",
              "      <td>16.93</td>\n",
              "      <td>16.93</td>\n",
              "      <td>2550000</td>\n",
              "    </tr>\n",
              "    <tr>\n",
              "      <th>3</th>\n",
              "      <td>1950-01-06</td>\n",
              "      <td>16.98</td>\n",
              "      <td>16.98</td>\n",
              "      <td>16.98</td>\n",
              "      <td>16.98</td>\n",
              "      <td>16.98</td>\n",
              "      <td>2010000</td>\n",
              "    </tr>\n",
              "    <tr>\n",
              "      <th>4</th>\n",
              "      <td>1950-01-09</td>\n",
              "      <td>17.08</td>\n",
              "      <td>17.08</td>\n",
              "      <td>17.08</td>\n",
              "      <td>17.08</td>\n",
              "      <td>17.08</td>\n",
              "      <td>2520000</td>\n",
              "    </tr>\n",
              "  </tbody>\n",
              "</table>\n",
              "</div>"
            ],
            "text/plain": [
              "         Date   Open   High    Low  Close  Adj Close   Volume\n",
              "0  1950-01-03  16.66  16.66  16.66  16.66      16.66  1260000\n",
              "1  1950-01-04  16.85  16.85  16.85  16.85      16.85  1890000\n",
              "2  1950-01-05  16.93  16.93  16.93  16.93      16.93  2550000\n",
              "3  1950-01-06  16.98  16.98  16.98  16.98      16.98  2010000\n",
              "4  1950-01-09  17.08  17.08  17.08  17.08      17.08  2520000"
            ]
          },
          "metadata": {
            "tags": []
          },
          "execution_count": 78
        }
      ]
    },
    {
      "cell_type": "markdown",
      "metadata": {
        "collapsed": false,
        "id": "b4rS8wPeScsj",
        "colab_type": "text"
      },
      "source": [
        "# Visualisation<br>\n",
        "The data consists of a day's stock market attributes for the company."
      ]
    },
    {
      "cell_type": "code",
      "metadata": {
        "id": "aHFm2sRlScsk",
        "colab_type": "code",
        "colab": {}
      },
      "source": [
        "import matplotlib.pyplot as plt\n",
        "plt.switch_backend('agg')"
      ],
      "execution_count": 0,
      "outputs": []
    },
    {
      "cell_type": "code",
      "metadata": {
        "id": "GLdgMR8GScsm",
        "colab_type": "code",
        "colab": {}
      },
      "source": [
        "plt.figure()\n",
        "plt.plot(df['Open'])\n",
        "plt.plot(df['High'])\n",
        "plt.plot(df['Low'])\n",
        "plt.plot(df['Close'])\n",
        "plt.title('Stock Price History')\n",
        "plt.ylabel('Price')\n",
        "plt.xlabel('Days')\n",
        "plt.legend(['Open','High','Low','Close'], loc = 'upper left')\n",
        "plt.show()\n",
        "plt.savefig('Stock Price Vis')"
      ],
      "execution_count": 0,
      "outputs": []
    },
    {
      "cell_type": "code",
      "metadata": {
        "id": "dgpxQCouScsp",
        "colab_type": "code",
        "colab": {}
      },
      "source": [
        "import matplotlib.image as mpimg"
      ],
      "execution_count": 0,
      "outputs": []
    },
    {
      "cell_type": "code",
      "metadata": {
        "id": "xsFvJ6VcScsr",
        "colab_type": "code",
        "colab": {}
      },
      "source": [
        "img = mpimg.imread('Stock Price Vis.png')"
      ],
      "execution_count": 0,
      "outputs": []
    },
    {
      "cell_type": "code",
      "metadata": {
        "id": "jf3i4lslScsu",
        "colab_type": "code",
        "colab": {},
        "outputId": "50b20805-5b74-4fb6-cbc5-5018556aef40"
      },
      "source": [
        "plt.imshow(img)"
      ],
      "execution_count": 0,
      "outputs": [
        {
          "output_type": "execute_result",
          "data": {
            "text/plain": [
              "<matplotlib.image.AxesImage at 0x7f4e303afa20>"
            ]
          },
          "metadata": {
            "tags": []
          },
          "execution_count": 83
        }
      ]
    },
    {
      "cell_type": "code",
      "metadata": {
        "id": "DfOzlRvjScsx",
        "colab_type": "code",
        "colab": {}
      },
      "source": [
        "plt.figure()\n",
        "plt.plot(df['Volume'])\n",
        "plt.title('Stock Volume History')\n",
        "plt.ylabel('Volume')\n",
        "plt.xlabel('Days')\n",
        "plt.show()\n",
        "plt.savefig('Volume')"
      ],
      "execution_count": 0,
      "outputs": []
    },
    {
      "cell_type": "code",
      "metadata": {
        "id": "OfSZyz7vScs0",
        "colab_type": "code",
        "colab": {}
      },
      "source": [
        "# There is a surge in the number of transactions around the 15000th day on the time line.\n",
        "#could be a sudden drop of stock price."
      ],
      "execution_count": 0,
      "outputs": []
    },
    {
      "cell_type": "code",
      "metadata": {
        "id": "wTrOiJJAScs2",
        "colab_type": "code",
        "colab": {},
        "outputId": "bf7cffac-ee2b-431c-bbe2-4ca35a327898"
      },
      "source": [
        "# check for null values\n",
        "df.isna().sum()"
      ],
      "execution_count": 0,
      "outputs": [
        {
          "output_type": "execute_result",
          "data": {
            "text/plain": [
              "Date         0\n",
              "Open         0\n",
              "High         0\n",
              "Low          0\n",
              "Close        0\n",
              "Adj Close    0\n",
              "Volume       0\n",
              "dtype: int64"
            ]
          },
          "metadata": {
            "tags": []
          },
          "execution_count": 86
        }
      ]
    },
    {
      "cell_type": "markdown",
      "metadata": {
        "id": "iMa859SYScs5",
        "colab_type": "text"
      },
      "source": [
        "# Normalising the data\n",
        "Normalising helps in converging i.e to find local/global miminum efficiently. we will use MinMaxScaler"
      ]
    },
    {
      "cell_type": "code",
      "metadata": {
        "id": "KQ41iS3oScs6",
        "colab_type": "code",
        "colab": {}
      },
      "source": [
        "from sklearn.preprocessing import MinMaxScaler\n",
        "from sklearn.model_selection import train_test_split"
      ],
      "execution_count": 0,
      "outputs": []
    },
    {
      "cell_type": "code",
      "metadata": {
        "id": "t-tO_aYEScs8",
        "colab_type": "code",
        "colab": {}
      },
      "source": [
        "train_cols = ['Open','High','Low','Close','Volume']"
      ],
      "execution_count": 0,
      "outputs": []
    },
    {
      "cell_type": "code",
      "metadata": {
        "id": "n45mO6HaSctB",
        "colab_type": "code",
        "colab": {}
      },
      "source": [
        "train, test = train_test_split(df, test_size = 0.2, shuffle = False)"
      ],
      "execution_count": 0,
      "outputs": []
    },
    {
      "cell_type": "code",
      "metadata": {
        "id": "r4drtU7aSctD",
        "colab_type": "code",
        "colab": {},
        "outputId": "62d7fef7-7ffb-40ed-d6ce-625820ba16e5"
      },
      "source": [
        "train.shape"
      ],
      "execution_count": 0,
      "outputs": [
        {
          "output_type": "execute_result",
          "data": {
            "text/plain": [
              "(14025, 7)"
            ]
          },
          "metadata": {
            "tags": []
          },
          "execution_count": 90
        }
      ]
    },
    {
      "cell_type": "code",
      "metadata": {
        "id": "qzS3yfG2SctG",
        "colab_type": "code",
        "colab": {},
        "outputId": "eb69fcf0-361c-44f2-a7b2-79d9aefe5af7"
      },
      "source": [
        "test.shape"
      ],
      "execution_count": 0,
      "outputs": [
        {
          "output_type": "execute_result",
          "data": {
            "text/plain": [
              "(3507, 7)"
            ]
          },
          "metadata": {
            "tags": []
          },
          "execution_count": 91
        }
      ]
    },
    {
      "cell_type": "code",
      "metadata": {
        "id": "Z_MUkoLSSctI",
        "colab_type": "code",
        "colab": {}
      },
      "source": [
        "#scale feature MinMax, build array\n",
        "x = train.loc[:,train_cols].values # now turned into array"
      ],
      "execution_count": 0,
      "outputs": []
    },
    {
      "cell_type": "code",
      "metadata": {
        "id": "jnjC5VesSctL",
        "colab_type": "code",
        "colab": {},
        "outputId": "75e0d1de-ea48-4d23-d80f-7ccfd2f33110"
      },
      "source": [
        "x"
      ],
      "execution_count": 0,
      "outputs": [
        {
          "output_type": "execute_result",
          "data": {
            "text/plain": [
              "array([[1.66600000e+01, 1.66600000e+01, 1.66600000e+01, 1.66600000e+01,\n",
              "        1.26000000e+06],\n",
              "       [1.68500000e+01, 1.68500000e+01, 1.68500000e+01, 1.68500000e+01,\n",
              "        1.89000000e+06],\n",
              "       [1.69300000e+01, 1.69300000e+01, 1.69300000e+01, 1.69300000e+01,\n",
              "        2.55000000e+06],\n",
              "       ...,\n",
              "       [1.21529004e+03, 1.22256006e+03, 1.21183997e+03, 1.21563000e+03,\n",
              "        2.02222000e+09],\n",
              "       [1.21563000e+03, 1.22017004e+03, 1.21110999e+03, 1.21566003e+03,\n",
              "        1.97627000e+09],\n",
              "       [1.21566003e+03, 1.22097998e+03, 1.21271997e+03, 1.21689001e+03,\n",
              "        2.10698000e+09]])"
            ]
          },
          "metadata": {
            "tags": []
          },
          "execution_count": 93
        }
      ]
    },
    {
      "cell_type": "code",
      "metadata": {
        "id": "wfZpd2NnSctP",
        "colab_type": "code",
        "colab": {}
      },
      "source": [
        "min_max_scaler = MinMaxScaler()"
      ],
      "execution_count": 0,
      "outputs": []
    },
    {
      "cell_type": "code",
      "metadata": {
        "id": "CGDErmQKSctV",
        "colab_type": "code",
        "colab": {}
      },
      "source": [
        "X_train = min_max_scaler.fit_transform(x)"
      ],
      "execution_count": 0,
      "outputs": []
    },
    {
      "cell_type": "code",
      "metadata": {
        "id": "NmwPkQXSSctY",
        "colab_type": "code",
        "colab": {}
      },
      "source": [
        "X_test = min_max_scaler.transform(test.loc[:,train_cols])"
      ],
      "execution_count": 0,
      "outputs": []
    },
    {
      "cell_type": "markdown",
      "metadata": {
        "id": "iVOUH1prScta",
        "colab_type": "text"
      },
      "source": [
        "# Convert data to time series\n",
        "LSTM consume input in format [batch_size,time_steps,Features] a 3D array<br>\n",
        "**Batch_size** how many samples of input you want the neural net to see before updating the weights. E.G 100 samples(input dataset) and you want to update the weights everytime your NN has seen an input, batch size would be 1 and total number of batches would be 100.<br>\n",
        "\n",
        "if you want NN to update weights after it has seen all the samples, batch size is 100 and number of batches would be 1.<br>\n",
        "\n",
        "using very small batches reduces speed of training, too big (like whole dataset) reduces models ability to generaliseto different data and consumes more memory, but takes fewer steps to find minima for objective function.<br>\n",
        "\n",
        "\n",
        "**Time Steps**<br>\n",
        "define how many units back in time you want your network to see. We will use 90 i.e we will look into 2 months of data to predict next days price.<br>\n",
        "\n",
        "**Features** <br>number of attributes used to represent each time step."
      ]
    },
    {
      "cell_type": "markdown",
      "metadata": {
        "id": "ax3-dQ1bSctb",
        "colab_type": "text"
      },
      "source": [
        "# convert data into suitable format\n",
        "suppose we want our time step to be 3, we look back 3 days of data to predict price of 4th day.<br>\n",
        "sample 0 to 2 would be first input and Close price of sample 3 would be corresponding output value.<br>\n",
        "similarly samples 1 to 3 would be second input and Close of sample 4<br>\n",
        "sample 2 to 4 Close of 5.<br>\n",
        "\n",
        "we now have matrix of (3,5) time step by features<br>\n",
        "\n",
        "assume we choose batch size of 2,then input output pair 1 and pair 2 woud constitude batch one\n"
      ]
    },
    {
      "cell_type": "code",
      "metadata": {
        "collapsed": true,
        "id": "TRLuXVejSctb",
        "colab_type": "code",
        "colab": {}
      },
      "source": [
        "def build_timeseries(mat, y_col_index):\n",
        "    #y_col_index is the index of colum that acts as output column\n",
        "    #total number of time-series samples would be len(mat) - TIME_STEPS\n",
        "    \n",
        "    dim_0 = mat.shape[0] - TIME_STEPS\n",
        "    dim_1 = mat.shape[1]\n",
        "    x = np.zeros((dim_0, TIME_STEPS,dim_1))\n",
        "    y = np.zeros((dim_0,))\n",
        "    \n",
        "    for i in range(dim_0):\n",
        "        x[i] = mat[i:TIME_STEPS+i]\n",
        "        y[i] = mat[TIME_STEPS+i, y_col_index]\n",
        "        \n",
        "    print('lenght of time series input/output', x.shape, y.shape)\n",
        "    return x,y"
      ],
      "execution_count": 0,
      "outputs": []
    },
    {
      "cell_type": "markdown",
      "metadata": {
        "id": "3yZqNmJsScte",
        "colab_type": "text"
      },
      "source": [
        "suppose after converting data into supervised learning format, you have 41 samples in your training dataset but batch size is 20, youhave to trim training ser to remove odd sampes left out\n"
      ]
    },
    {
      "cell_type": "code",
      "metadata": {
        "collapsed": true,
        "id": "mqNrVZ7ESctg",
        "colab_type": "code",
        "colab": {}
      },
      "source": [
        "def trim_dataset(mat, batch_size):\n",
        "    \"\"\"\n",
        "    trims dataset to a size thats divisible by BATCH_SIZE\n",
        "    \"\"\"\n",
        "    no_of_rows_drop = mat.shape[0]%batch_size # remove remainder after division\n",
        "    \n",
        "    if(no_of_rows_drop > 0):\n",
        "        return mat[:-no_of_rows_drop]\n",
        "    else:\n",
        "        return mat"
      ],
      "execution_count": 0,
      "outputs": []
    },
    {
      "cell_type": "markdown",
      "metadata": {
        "id": "nlDghc5AScti",
        "colab_type": "text"
      },
      "source": [
        "# Form train, validation and test datasets"
      ]
    },
    {
      "cell_type": "code",
      "metadata": {
        "id": "Eq5kV0wKSctj",
        "colab_type": "code",
        "colab": {},
        "outputId": "da39b165-5f72-45ef-d0a2-12d2da8cd716"
      },
      "source": [
        "x_t, y_t = build_timeseries(X_train,3) #index 3 is the output column\n",
        "x_t = trim_dataset(x_t, BATCH_SIZE)\n",
        "y_t = trim_dataset(y_t, BATCH_SIZE)\n",
        "x_temp, y_temp = build_timeseries(X_test,3)\n",
        "\n",
        "x_val, x_test_t = np.split(trim_dataset(x_temp, BATCH_SIZE), 2)\n",
        "y_val, y_test_t = np.split(trim_dataset(y_temp, BATCH_SIZE),2)"
      ],
      "execution_count": 0,
      "outputs": [
        {
          "output_type": "stream",
          "text": [
            "lenght of time series input/output (13965, 60, 5) (13965,)\n",
            "lenght of time series input/output (3447, 60, 5) (3447,)\n"
          ],
          "name": "stdout"
        }
      ]
    },
    {
      "cell_type": "markdown",
      "metadata": {
        "id": "xcZv55jsSctl",
        "colab_type": "text"
      },
      "source": [
        "# Creating the model"
      ]
    },
    {
      "cell_type": "code",
      "metadata": {
        "id": "mf93bSmVSctm",
        "colab_type": "code",
        "colab": {}
      },
      "source": [
        "lstm_model = Sequential()\n",
        "# (batch_size, timesteps, data_dim)\n",
        "lstm_model.add(LSTM(100, batch_input_shape=(BATCH_SIZE, TIME_STEPS, x_t.shape[2]),\n",
        "                    dropout=0.0, recurrent_dropout=0.0, stateful=True, return_sequences=True,\n",
        "                    kernel_initializer='random_uniform')) #100 nodes\n",
        "lstm_model.add(Dropout(0.4))\n",
        "\n",
        "lstm_model.add(LSTM(60, dropout=0.0)) #60 nodes\n",
        "lstm_model.add(Dropout(0.4))\n",
        "\n",
        "lstm_model.add(Dense(20,activation='relu')) #output layer\n",
        "lstm_model.add(Dense(1,activation='sigmoid'))\n",
        "\n",
        "optimizer = optimizers.RMSprop(lr=0.01)\n",
        "lstm_model.compile(loss='mean_squared_error', optimizer=optimizer)"
      ],
      "execution_count": 0,
      "outputs": []
    },
    {
      "cell_type": "code",
      "metadata": {
        "id": "EOKHk-pCScto",
        "colab_type": "code",
        "colab": {},
        "outputId": "9b2fc67d-3936-44d6-c8f2-85a16bc51027"
      },
      "source": [
        "history = lstm_model.fit(x_t, y_t, epochs=5, verbose=2, batch_size=BATCH_SIZE,\n",
        "                    shuffle=False, validation_data=(trim_dataset(x_val, BATCH_SIZE),\n",
        "                    trim_dataset(y_val, BATCH_SIZE)))"
      ],
      "execution_count": 0,
      "outputs": [
        {
          "output_type": "stream",
          "text": [
            "Train on 13960 samples, validate on 1720 samples\n",
            "Epoch 1/5\n",
            " - 89s - loss: 3.6321e-04 - val_loss: 0.0153\n",
            "Epoch 2/5\n",
            " - 89s - loss: 0.0103 - val_loss: 0.0153\n",
            "Epoch 3/5\n",
            " - 89s - loss: 0.0083 - val_loss: 0.0153\n",
            "Epoch 4/5\n",
            " - 91s - loss: 0.0057 - val_loss: 0.0160\n",
            "Epoch 5/5\n",
            " - 89s - loss: 0.0052 - val_loss: 0.0154\n"
          ],
          "name": "stdout"
        }
      ]
    },
    {
      "cell_type": "code",
      "metadata": {
        "id": "AkjopDwPSctq",
        "colab_type": "code",
        "colab": {},
        "outputId": "227e502e-bba7-4b79-8586-a62cdf37e355"
      },
      "source": [
        "lstm_model.summary()"
      ],
      "execution_count": 0,
      "outputs": [
        {
          "output_type": "stream",
          "text": [
            "_________________________________________________________________\n",
            "Layer (type)                 Output Shape              Param #   \n",
            "=================================================================\n",
            "lstm_9 (LSTM)                (20, 60, 100)             42400     \n",
            "_________________________________________________________________\n",
            "dropout_9 (Dropout)          (20, 60, 100)             0         \n",
            "_________________________________________________________________\n",
            "lstm_10 (LSTM)               (20, 60)                  38640     \n",
            "_________________________________________________________________\n",
            "dropout_10 (Dropout)         (20, 60)                  0         \n",
            "_________________________________________________________________\n",
            "dense_9 (Dense)              (20, 20)                  1220      \n",
            "_________________________________________________________________\n",
            "dense_10 (Dense)             (20, 1)                   21        \n",
            "=================================================================\n",
            "Total params: 82,281\n",
            "Trainable params: 82,281\n",
            "Non-trainable params: 0\n",
            "_________________________________________________________________\n"
          ],
          "name": "stdout"
        }
      ]
    },
    {
      "cell_type": "code",
      "metadata": {
        "collapsed": true,
        "id": "orqBRgBGSctt",
        "colab_type": "code",
        "colab": {}
      },
      "source": [
        "y_pred = lstm_model.predict(trim_dataset(x_t, BATCH_SIZE), batch_size=BATCH_SIZE)"
      ],
      "execution_count": 0,
      "outputs": []
    },
    {
      "cell_type": "code",
      "metadata": {
        "id": "o80gOf-rSctv",
        "colab_type": "code",
        "colab": {},
        "outputId": "5e48ce17-c49d-476d-a260-b7fd119dd78b"
      },
      "source": [
        "y_pred"
      ],
      "execution_count": 0,
      "outputs": [
        {
          "output_type": "execute_result",
          "data": {
            "text/plain": [
              "array([[0.79503846],\n",
              "       [0.79503846],\n",
              "       [0.79503846],\n",
              "       ...,\n",
              "       [0.79503846],\n",
              "       [0.79503846],\n",
              "       [0.79503846]], dtype=float32)"
            ]
          },
          "metadata": {
            "tags": []
          },
          "execution_count": 105
        }
      ]
    },
    {
      "cell_type": "code",
      "metadata": {
        "id": "0zm_3q7_Scty",
        "colab_type": "code",
        "colab": {}
      },
      "source": [
        "y_pred = y_pred.flatten()"
      ],
      "execution_count": 0,
      "outputs": []
    },
    {
      "cell_type": "code",
      "metadata": {
        "collapsed": true,
        "id": "oL8pEaP4Sct0",
        "colab_type": "code",
        "colab": {}
      },
      "source": [
        "y_test_t = trim_dataset(y_test_t, BATCH_SIZE)"
      ],
      "execution_count": 0,
      "outputs": []
    },
    {
      "cell_type": "code",
      "metadata": {
        "collapsed": true,
        "id": "JzBaz0qMSct2",
        "colab_type": "code",
        "colab": {}
      },
      "source": [
        "#inverse transformation\n",
        "y_pred_trans = (y_pred * min_max_scaler.data_range_[3]) + min_max_scaler.data_min_[3]\n",
        "y_test_t_trans = (y_test_t * min_max_scaler.data_range_[3]) + min_max_scaler.data_min_[3]"
      ],
      "execution_count": 0,
      "outputs": []
    },
    {
      "cell_type": "code",
      "metadata": {
        "id": "qWyTMOxtSct7",
        "colab_type": "code",
        "colab": {},
        "outputId": "50f253e4-bfc5-4d80-8fb0-9f45f84cad15"
      },
      "source": [
        "y_test_t_trans"
      ],
      "execution_count": 0,
      "outputs": [
        {
          "output_type": "execute_result",
          "data": {
            "text/plain": [
              "array([1413.109985, 1408.75    , 1412.969971, ..., 2922.949951,\n",
              "       2847.110107, 2878.379883])"
            ]
          },
          "metadata": {
            "tags": []
          },
          "execution_count": 113
        }
      ]
    },
    {
      "cell_type": "code",
      "metadata": {
        "id": "KillZrykSct-",
        "colab_type": "code",
        "colab": {}
      },
      "source": [
        "plt.figure()\n",
        "plt.plot(y_pred_trans)\n",
        "plt.plot(y_test_t_trans)\n",
        "plt.title('Prediction vs Real Stock Price')\n",
        "plt.ylabel('Price')\n",
        "plt.xlabel('Days')\n",
        "plt.legend(['Prediction', 'Real'], loc='upper left')\n",
        "plt.savefig('prediction_vs_real')"
      ],
      "execution_count": 0,
      "outputs": []
    },
    {
      "cell_type": "code",
      "metadata": {
        "collapsed": true,
        "id": "kKo11xirScuB",
        "colab_type": "code",
        "colab": {}
      },
      "source": [
        ""
      ],
      "execution_count": 0,
      "outputs": []
    }
  ]
}